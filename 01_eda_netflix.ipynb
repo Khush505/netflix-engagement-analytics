{
 "cells": [
  {
   "cell_type": "code",
   "execution_count": 1,
   "id": "7e048342",
   "metadata": {},
   "outputs": [],
   "source": [
    "import pandas as pd\n",
    "\n",
    "# Load dataset\n",
    "df = pd.read_csv(\"C:/Users/Admin1/OneDrive/Desktop/Project/Python_Project_3/Netflix_Engagement_Report_2023_Jan-Jun_cleaned.csv\")"
   ]
  },
  {
   "cell_type": "code",
   "execution_count": 2,
   "id": "64e9f23c",
   "metadata": {},
   "outputs": [
    {
     "name": "stdout",
     "output_type": "stream",
     "text": [
      "                                 Title Available Globally Release Date  \\\n",
      "0            The Night Agent: Season 1                Yes    3/23/2023   \n",
      "1            Ginny & Georgia: Season 2                Yes     1/5/2023   \n",
      "2   The Glory: Season 1 // 더 글로리: 시즌 1                Yes   12/30/2022   \n",
      "3                  Wednesday: Season 1                Yes   11/23/2022   \n",
      "4  Queen Charlotte: A Bridgerton Story                Yes     5/4/2023   \n",
      "\n",
      "   Hours Viewed  \n",
      "0     812100000  \n",
      "1     665100000  \n",
      "2     622800000  \n",
      "3     507700000  \n",
      "4     503000000  \n"
     ]
    }
   ],
   "source": [
    "# Quick overbiew\n",
    "print(df.head())"
   ]
  },
  {
   "cell_type": "code",
   "execution_count": 3,
   "id": "11748f64",
   "metadata": {},
   "outputs": [
    {
     "name": "stdout",
     "output_type": "stream",
     "text": [
      "<class 'pandas.core.frame.DataFrame'>\n",
      "RangeIndex: 18214 entries, 0 to 18213\n",
      "Data columns (total 4 columns):\n",
      " #   Column              Non-Null Count  Dtype \n",
      "---  ------              --------------  ----- \n",
      " 0   Title               18214 non-null  object\n",
      " 1   Available Globally  18214 non-null  object\n",
      " 2   Release Date        4855 non-null   object\n",
      " 3   Hours Viewed        18214 non-null  int64 \n",
      "dtypes: int64(1), object(3)\n",
      "memory usage: 569.3+ KB\n",
      "None\n"
     ]
    }
   ],
   "source": [
    "print(df.info())"
   ]
  },
  {
   "cell_type": "code",
   "execution_count": 4,
   "id": "44547beb",
   "metadata": {},
   "outputs": [
    {
     "name": "stdout",
     "output_type": "stream",
     "text": [
      "       Hours Viewed\n",
      "count  1.821400e+04\n",
      "mean   5.130954e+06\n",
      "std    1.871767e+07\n",
      "min    1.000000e+05\n",
      "25%    2.000000e+05\n",
      "50%    7.000000e+05\n",
      "75%    3.400000e+06\n",
      "max    8.121000e+08\n"
     ]
    }
   ],
   "source": [
    "print(df.describe())"
   ]
  },
  {
   "cell_type": "code",
   "execution_count": 5,
   "id": "5cf069e5",
   "metadata": {},
   "outputs": [
    {
     "name": "stdout",
     "output_type": "stream",
     "text": [
      "Title                     0\n",
      "Available Globally        0\n",
      "Release Date          13359\n",
      "Hours Viewed              0\n",
      "dtype: int64\n"
     ]
    }
   ],
   "source": [
    "# Check for missing values\n",
    "print(df.isnull().sum())"
   ]
  },
  {
   "cell_type": "code",
   "execution_count": 6,
   "id": "5758474f",
   "metadata": {},
   "outputs": [
    {
     "name": "stdout",
     "output_type": "stream",
     "text": [
      "                                 Title  Available Globally Release Date  \\\n",
      "0            The Night Agent: Season 1                   1   2023-03-23   \n",
      "1            Ginny & Georgia: Season 2                   1   2023-01-05   \n",
      "2   The Glory: Season 1 // 더 글로리: 시즌 1                   1   2022-12-30   \n",
      "3                  Wednesday: Season 1                   1   2022-11-23   \n",
      "4  Queen Charlotte: A Bridgerton Story                   1   2023-05-04   \n",
      "\n",
      "   Hours Viewed  \n",
      "0     812100000  \n",
      "1     665100000  \n",
      "2     622800000  \n",
      "3     507700000  \n",
      "4     503000000  \n",
      "Title                     0\n",
      "Available Globally        0\n",
      "Release Date          13359\n",
      "Hours Viewed              0\n",
      "dtype: int64\n"
     ]
    },
    {
     "name": "stderr",
     "output_type": "stream",
     "text": [
      "C:\\Users\\Admin1\\AppData\\Local\\Temp\\ipykernel_16488\\3680474946.py:3: FutureWarning: A value is trying to be set on a copy of a DataFrame or Series through chained assignment using an inplace method.\n",
      "The behavior will change in pandas 3.0. This inplace method will never work because the intermediate object on which we are setting values always behaves as a copy.\n",
      "\n",
      "For example, when doing 'df[col].method(value, inplace=True)', try using 'df.method({col: value}, inplace=True)' or df[col] = df[col].method(value) instead, to perform the operation inplace on the original object.\n",
      "\n",
      "\n",
      "  df['Release Date'].fillna(pd.NaT, inplace=True)\n"
     ]
    }
   ],
   "source": [
    "# Fill missing release dates\n",
    "df['Release Date'] = pd.to_datetime(df['Release Date'], errors='coerce')\n",
    "df['Release Date'].fillna(pd.NaT, inplace=True)\n",
    "\n",
    "# Standardize Available Globally column\n",
    "df['Available Globally'] = df['Available Globally'].map({'Yes': 1, 'No': 0})\n",
    "\n",
    "# Check cleaned data\n",
    "print(df.head())\n",
    "print(df.isnull().sum())\n"
   ]
  },
  {
   "cell_type": "code",
   "execution_count": 7,
   "id": "08db4d13",
   "metadata": {},
   "outputs": [
    {
     "name": "stdout",
     "output_type": "stream",
     "text": [
      "                                 Title  Hours Viewed\n",
      "0            The Night Agent: Season 1     812100000\n",
      "1            Ginny & Georgia: Season 2     665100000\n",
      "2   The Glory: Season 1 // 더 글로리: 시즌 1     622800000\n",
      "3                  Wednesday: Season 1     507700000\n",
      "4  Queen Charlotte: A Bridgerton Story     503000000\n",
      "5                        You: Season 4     440600000\n",
      "6           La Reina del Sur: Season 3     429600000\n",
      "7                Outer Banks: Season 3     402500000\n",
      "8            Ginny & Georgia: Season 1     302100000\n",
      "9                      FUBAR: Season 1     266200000\n"
     ]
    }
   ],
   "source": [
    "# Top 10 Shows by Hours Viewed\n",
    "top10 = df.sort_values(by='Hours Viewed', ascending=False).head(10)\n",
    "print(top10[['Title','Hours Viewed']])\n"
   ]
  },
  {
   "cell_type": "code",
   "execution_count": 8,
   "id": "d54b6004",
   "metadata": {},
   "outputs": [
    {
     "name": "stdout",
     "output_type": "stream",
     "text": [
      "     Month  Hours Viewed\n",
      "0  2010-04      35900000\n",
      "1  2010-09      33200000\n",
      "2  2011-03      12300000\n",
      "3  2011-09      94700000\n",
      "4  2012-02       3500000\n"
     ]
    }
   ],
   "source": [
    "# Total Watch Hours by Month\n",
    "df['Month'] = df['Release Date'].dt.to_period('M')\n",
    "monthly_views = df.groupby('Month')['Hours Viewed'].sum().reset_index()\n",
    "print(monthly_views.head())\n"
   ]
  },
  {
   "cell_type": "code",
   "execution_count": 9,
   "id": "9232e203",
   "metadata": {},
   "outputs": [
    {
     "name": "stdout",
     "output_type": "stream",
     "text": [
      "Available Globally\n",
      "0    3.307803e+06\n",
      "1    1.066422e+07\n",
      "Name: Hours Viewed, dtype: float64\n"
     ]
    }
   ],
   "source": [
    "# Global vs Non-Global Availability Impact\n",
    "global_views = df.groupby('Available Globally')['Hours Viewed'].mean()\n",
    "print(global_views)\n"
   ]
  },
  {
   "cell_type": "code",
   "execution_count": 10,
   "id": "53ed2d48",
   "metadata": {},
   "outputs": [
    {
     "data": {
      "image/png": "[encoded data removed]",
      "text/plain": [
       "<Figure size 640x480 with 1 Axes>"
      ]
     },
     "metadata": {},
     "output_type": "display_data"
    }
   ],
   "source": [
    "# Distribution of Viewing Hours\n",
    "import matplotlib.pyplot as plt\n",
    "\n",
    "plt.hist(df['Hours Viewed'], bins=50, color='skyblue')\n",
    "plt.title('Distribution of Viewing Hours')\n",
    "plt.xlabel('Hours Viewed')\n",
    "plt.ylabel('Number of Titles')\n",
    "plt.show()\n"
   ]
  },
  {
   "cell_type": "code",
   "execution_count": 11,
   "id": "2966b51b",
   "metadata": {},
   "outputs": [],
   "source": [
    "df.to_csv('netflix_engagement_clean.csv', index=False)\n"
   ]
  },
  {
   "cell_type": "code",
   "execution_count": 12,
   "id": "2f9b8818",
   "metadata": {},
   "outputs": [],
   "source": [
    "# Top 10 Titles\n",
    "top10 = df.sort_values(by='Hours Viewed', ascending=False).head(10)\n",
    "top10.to_csv('top10_titles.csv', index=False)\n",
    "\n",
    "# Monthly Views\n",
    "monthly_views.to_csv('monthly_views.csv', index=False)\n",
    "\n",
    "# Global vs Non-Global\n",
    "global_views_df = df.groupby('Available Globally')['Hours Viewed'].mean().reset_index()\n",
    "global_views_df.to_csv('global_vs_nonglobal.csv', index=False)\n"
   ]
  },
  {
   "cell_type": "code",
   "execution_count": null,
   "id": "0b1337a4",
   "metadata": {},
   "outputs": [],
   "source": []
  }
 ],
 "metadata": {
  "kernelspec": {
   "display_name": "Solar DS",
   "language": "python",
   "name": "solar_ds"
  },
  "language_info": {
   "codemirror_mode": {
    "name": "ipython",
    "version": 3
   },
   "file_extension": ".py",
   "mimetype": "text/x-python",
   "name": "python",
   "nbconvert_exporter": "python",
   "pygments_lexer": "ipython3",
   "version": "3.10.18"
  }
 },
 "nbformat": 4,
 "nbformat_minor": 5
}
